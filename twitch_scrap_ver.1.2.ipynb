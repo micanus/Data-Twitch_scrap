{
 "cells": [
  {
   "cell_type": "code",
   "execution_count": null,
   "metadata": {},
   "outputs": [],
   "source": [
    "import json\n",
    "import urllib.request\n",
    "from datetime import datetime\n",
    "from datetime import timedelta\n",
    "import re\n",
    "\n",
    "import pandas as pd"
   ]
  },
  {
   "cell_type": "code",
   "execution_count": null,
   "metadata": {},
   "outputs": [],
   "source": [
    "twitch_game=pd.DataFrame(columns=['name','pop','_id','giantbomb_id','localized_name','locale','viewers','channels'])"
   ]
  },
  {
   "cell_type": "code",
   "execution_count": null,
   "metadata": {},
   "outputs": [],
   "source": [
    "twitch_channel=pd.DataFrame(columns=['id','login','partner','affiliate','ect','view_count'])"
   ]
  },
  {
   "cell_type": "code",
   "execution_count": null,
   "metadata": {},
   "outputs": [],
   "source": [
    "scrapTW=pd.DataFrame(columns=['title','game_category','view','duration','vod_url','donation','spent','chat_time','time_stamp','comment_user','comments'])"
   ]
  },
  {
   "cell_type": "markdown",
   "metadata": {},
   "source": [
    "## twitch v5 api"
   ]
  },
  {
   "cell_type": "markdown",
   "metadata": {},
   "source": [
    "### Top games\n",
    "\n",
    "viewers : 해당 게임을 시청하는 시청자 수  \n",
    "channels : 방송중인(방송한) 채널 수   \n",
    "name : 게임 이름  \n",
    "popularity : 인기도  \n",
    "ID : twitch 서비스 내 고유키  \n",
    "giantbomb_id : Giantbomb.com 미국의 비디오 게임 웹사이트. 위키(공략), 논평, 뉴스 등을 제공  \n",
    "localized_name : locale에 맞춘 명칭  \n",
    "locale : 기준 지역 기본 수집은 'en-us'  "
   ]
  },
  {
   "cell_type": "code",
   "execution_count": null,
   "metadata": {},
   "outputs": [],
   "source": [
    "#game popularity rate. 요청 시점에서 시청자 수 기준으로 정렬\n",
    "\n",
    "Clientid = \" \"\n",
    "lim = 100 #최대 요청 100, 응답 99개\n",
    "\n",
    "url = \"https://api.twitch.tv/kraken/games/top?\"+\"&limit=\"+str(lim)\n",
    "req = urllib.request.Request(url, headers = {\"Client-ID\": Clientid, \"Accept\":\"application/vnd.twitchtv.v5+jason\"})\n",
    "u = urllib.request.urlopen(req)\n",
    "c = u.read().decode('utf-8')\n",
    "js = json.loads(c)\n",
    "results = js['top']"
   ]
  },
  {
   "cell_type": "code",
   "execution_count": null,
   "metadata": {},
   "outputs": [],
   "source": [
    "#results[0]['game']\n",
    "for i in range(len(results)):\n",
    "    print(results[i]['game']['name'])"
   ]
  },
  {
   "cell_type": "code",
   "execution_count": null,
   "metadata": {},
   "outputs": [],
   "source": [
    "for i in range(len(results)):\n",
    "    name = results[i]['game']['name']\n",
    "    pop = results[i]['game']['popularity']\n",
    "    iD = results[i]['game']['_id']\n",
    "    bomb = results[i]['game']['giantbomb_id']\n",
    "    local_name = results[i]['game']['localized_name']\n",
    "    local = results[i]['game']['locale']\n",
    "    view = results[i]['viewers']\n",
    "    channel = results[i]['channels']\n",
    "    twitch_game = twitch_game.append({'name':name,'pop':pop,'_id':iD,'giantbomb_id':bomb,'localized_name':local_name,'locale':local,'viewers':view,'channels':channel},ignore_index = True)"
   ]
  },
  {
   "cell_type": "code",
   "execution_count": null,
   "metadata": {},
   "outputs": [],
   "source": [
    "#twitch_game[(twitch_game['name']=='Overwatch')]\n",
    "twitch_game"
   ]
  },
  {
   "cell_type": "markdown",
   "metadata": {},
   "source": [
    "### Streamer\n",
    "\n",
    "#### 비트 후원이 가능한 스트리머: 파트너, 제휴 스트리머  \n",
    "    broadcaster_type: \"partner\", \"affiliate\", or \"\"\n",
    "영어권 스트리머 data scrap  \n",
    "대상 언어권 스트리머 중 일정 규모의 시청자, 구독 조건의 스트리머 선택  \n",
    "선택된 스트리머 리스트의 동영상 URL 리스트 수집  \n",
    "수집된 URL, 작성한 api function으로 수집할 수 있도록 작성(일일 제한양에 맞춰 나누기)\n",
    "\n",
    "조회한 대상이 파트너인지, 제휴인지, 그외 인지 pandas로 기록(중복 조회 피하기)  \n",
    "id와 login을 함께 기록"
   ]
  },
  {
   "cell_type": "code",
   "execution_count": null,
   "metadata": {},
   "outputs": [],
   "source": [
    "#팔로워\n",
    "#https://api.twitch.tv/kraken/channels/<channel ID>/follows\n",
    "\n",
    "#구독자\n",
    "#https://api.twitch.tv/kraken/channels/<channel ID>/subscriptions"
   ]
  },
  {
   "cell_type": "code",
   "execution_count": null,
   "metadata": {},
   "outputs": [],
   "source": [
    "def Stream_type(userID, ClientID):\n",
    "    twitch_channel=pd.DataFrame(columns=['id','login','partner','affiliate','ect','view_count'])\n",
    "    \n",
    "    for i in range(len(userID)):\n",
    "        try:       \n",
    "            url = \"https://api.twitch.tv/helix/users\"+\"?id=\"+userID[i]\n",
    "            req = urllib.request.Request(url, headers = {\"Client-ID\": ClientID, \"Authorization\" : \"Bearer cfabdegwdoklmawdzdo98xt2fo512y\"})\n",
    "            u = urllib.request.urlopen(req)\n",
    "            c = u.read().decode('utf-8')\n",
    "            js = json.loads(c)\n",
    "            #print('success')\n",
    "        except:\n",
    "            url = \"https://api.twitch.tv/helix/users\"+\"?login=\"+userID[i]\n",
    "            req = urllib.request.Request(url, headers = {\"Client-ID\": ClientID, \"Authorization\" : \"Bearer cfabdegwdoklmawdzdo98xt2fo512y\"})\n",
    "            u = urllib.request.urlopen(req)\n",
    "            c = u.read().decode('utf-8')\n",
    "            js = json.loads(c)\n",
    "            #print('success')\n",
    "        \n",
    "        chan_ID = js['data'][0]['id']\n",
    "        login_ID = js['data'][0]['login']\n",
    "        partner = 0\n",
    "        affiliate = 0\n",
    "        ect = 0\n",
    "\n",
    "        Btype = js['data'][0]['broadcaster_type']\n",
    "        if Btype == 'partner':\n",
    "            partner = 1\n",
    "        elif Btype == 'affiliate':\n",
    "            affiliate = 1\n",
    "        else:\n",
    "            ect = 1\n",
    "        view_count = js['data'][0]['view_count']\n",
    "        \n",
    "        twitch_channel=twitch_channel.append({'id':chan_ID,'login':login_ID,'partner':partner,'affiliate':affiliate,'ect':ect,'view_count':view_count},ignore_index = True)   \n",
    "        \n",
    "    #print(twitch_channel)\n",
    "    return twitch_channel"
   ]
  },
  {
   "cell_type": "code",
   "execution_count": null,
   "metadata": {},
   "outputs": [],
   "source": [
    "twitch_channel"
   ]
  },
  {
   "cell_type": "code",
   "execution_count": null,
   "metadata": {},
   "outputs": [],
   "source": [
    "Clientid = \" \"\n",
    "\n",
    "#userID = [\"\"] #추후 리스트로 입력하여 탐색(100개씩)\n",
    "userID=[\"\"]"
   ]
  },
  {
   "cell_type": "code",
   "execution_count": null,
   "metadata": {},
   "outputs": [],
   "source": [
    "stream_type = Stream_type(userID,Clientid)\n",
    "twitch_channel=twitch_channel.append(stream_type, ignore_index=True)"
   ]
  },
  {
   "cell_type": "code",
   "execution_count": null,
   "metadata": {},
   "outputs": [],
   "source": [
    "twitch_channel"
   ]
  },
  {
   "cell_type": "code",
   "execution_count": null,
   "metadata": {},
   "outputs": [],
   "source": [
    "twitch_channel['id']"
   ]
  },
  {
   "cell_type": "markdown",
   "metadata": {},
   "source": [
    "### 스트리머의 게시된 영상 url 수집\n",
    "\n",
    "대상 스트리머가 게시한 영상의 video ID를 수집하여 저장  \n",
    "lim를 지정하여 최대 100개(게임 순위를 고려하여 99개가 될 수 있음)의 url 수집  \n",
    "trial을 확인하여 broadcast_type을 지정할 필요가 있는지 확인 archive, highlight, upload"
   ]
  },
  {
   "cell_type": "code",
   "execution_count": null,
   "metadata": {},
   "outputs": [],
   "source": [
    "def Stream_video(channel_ID, ClientID, lim):\n",
    "    video_list = []\n",
    "    for i in range(len(channel_ID)):\n",
    "        url = \"https://api.twitch.tv/kraken/channels/\"+channel_ID[i]+\"/videos\"+\"&limit=\"+str(lim) #lim = default 10, max 100(99 video url)\n",
    "        req = urllib.request.Request(url, headers = {\"Client-ID\": ClientID, \"Accept\":\"application/vnd.twitchtv.v5+jason\"})\n",
    "        u = urllib.request.urlopen(req)\n",
    "        c = u.read().decode('utf-8')\n",
    "        js = json.loads(c)\n",
    "    \n",
    "        for i in range(len(js['videos'])):\n",
    "            url = js['videos'][i]['url'].split('/')[-1]\n",
    "            video_list.append(url)\n",
    "    \n",
    "    return video_list"
   ]
  },
  {
   "cell_type": "code",
   "execution_count": null,
   "metadata": {},
   "outputs": [],
   "source": [
    "channel_ID = twitch_channel['id']"
   ]
  },
  {
   "cell_type": "code",
   "execution_count": null,
   "metadata": {},
   "outputs": [],
   "source": [
    "channel_ID"
   ]
  },
  {
   "cell_type": "code",
   "execution_count": null,
   "metadata": {},
   "outputs": [],
   "source": [
    "stream_video = Stream_video(channel_ID, Clientid, '10')"
   ]
  },
  {
   "cell_type": "code",
   "execution_count": null,
   "metadata": {},
   "outputs": [],
   "source": [
    "#함수 밖에서 리스트 추가\n",
    "video_url = []\n",
    "video_url.extend(stream_video)\n",
    "video_url_df=pd.DataFrame(video_url)"
   ]
  },
  {
   "cell_type": "code",
   "execution_count": null,
   "metadata": {},
   "outputs": [],
   "source": [
    "video_url"
   ]
  },
  {
   "cell_type": "code",
   "execution_count": null,
   "metadata": {},
   "outputs": [],
   "source": [
    "videoID"
   ]
  },
  {
   "cell_type": "markdown",
   "metadata": {},
   "source": [
    "### video"
   ]
  },
  {
   "cell_type": "markdown",
   "metadata": {},
   "source": [
    "영상 1건에 대한 채팅 수집\n",
    "\n",
    "1. 수집 영상 video ID list 작성\n",
    "2. 1에서 수집된 list로 각 영상의 전체 채팅 데이터 수집  \n",
    "+데이터외에 영상에 대한 요약 정보(시간 외 api에서 요청가능한 정보 저장"
   ]
  },
  {
   "cell_type": "code",
   "execution_count": null,
   "metadata": {},
   "outputs": [],
   "source": [
    "scrapTW"
   ]
  },
  {
   "cell_type": "code",
   "execution_count": null,
   "metadata": {},
   "outputs": [],
   "source": [
    "#함수 작성용 예시\n",
    "#Clientid = \" \"\n",
    "#videoID = ['562148164', '560784948']"
   ]
  },
  {
   "cell_type": "code",
   "execution_count": null,
   "metadata": {},
   "outputs": [],
   "source": [
    "videoID"
   ]
  },
  {
   "cell_type": "code",
   "execution_count": null,
   "metadata": {},
   "outputs": [],
   "source": [
    "def Video_chat(videoID, ClientID):\n",
    "    scrapTW=pd.DataFrame(columns=['title','game_category','view','duration','vod_url','donation','spent','chat_time','time_stamp','comment_user','comments'])\n",
    "    \n",
    "    for i in range(len(videoID)):\n",
    "\n",
    "        video_url = \"https://api.twitch.tv/kraken/videos/\"+videoID[i]\n",
    "        print(video_url)\n",
    "        req = urllib.request.Request(video_url, headers = {\"Client-ID\": ClientID, \"Accept\" : \"application/vnd.twitchtv.v5+jason\"})\n",
    "        u = urllib.request.urlopen(req)\n",
    "        c = u.read().decode('utf-8')\n",
    "        js = json.loads(c)\n",
    "\n",
    "        offset = 0 #시작 위치\n",
    "\n",
    "        #반복구문의 영상정보 할당을 여기로 옮기는게 좋을지도...\n",
    "\n",
    "        cursor = \"\"\n",
    "        count = 0\n",
    "\n",
    "        while(1):\n",
    "            print('진행중: '+str(count), end='\\r')\n",
    "            try:\n",
    "                video_url = \"https://api.twitch.tv/kraken/videos/\"+str(videoID[i])+\"/comments?cursor=\"+str(cursor)\n",
    "\n",
    "                req2 = urllib.request.Request(video_url, headers = {\"Client-ID\": ClientID, \"Accept\" : \"application/vnd.twitchtv.v5+json\"})\n",
    "                u2 = urllib.request.urlopen(req2)\n",
    "                c2 = u2.read().decode('utf-8')\n",
    "                j = json.loads(c2)\n",
    "                endCount = 0\n",
    "\n",
    "                try:\n",
    "                    for number, com in enumerate(j['comments']): #number=index, com=comment\n",
    "                        dateString = j['comments'][number]['created_at']\n",
    "                        if \".\" in dateString:\n",
    "                            dateString = re.sub(r\".[0-9]+Z\",\"Z\", dateString)\n",
    "                        date = datetime.strptime(dateString, \"%Y-%m-%dT%H:%M:%SZ\")\n",
    "                        #if (int(offset) + int(duration)) < int(j2['comments'][number]['content_offset_seconds']): \n",
    "                            #endCount = 1\n",
    "                            #print('duration')\n",
    "                            #break #video의 경우 끝나지 않을 가능성 있음. 개선할 것\n",
    "                        #else:\n",
    "\n",
    "                        #완성 후 삭제\n",
    "\n",
    "                        #영상 정보\n",
    "                        title = str(js['title']) #영상 제목\n",
    "                        game = str(js['game']) #영상내 게임\n",
    "                        views = js['views'] #영상 시청수\n",
    "                        duration = js['length'] #방송 시간(초)\n",
    "                        url = str(js['url']) #영상 url\n",
    "\n",
    "                        #채팅 정보\n",
    "                        time = str(date + timedelta(hours=9)) #작성 시간\n",
    "                        timestamp = str(j['comments'][12]['content_offset_seconds']) #영상 길이중 채팅입력 시간\n",
    "                        name = str(j['comments'][number]['commenter']['name']) #작성자\n",
    "                        comment = str(j['comments'][number]['message']['body']) #채팅\n",
    "                        try:\n",
    "                            spent = j['comments'][number]['message']['bits_spent'] #후원 액수\n",
    "                            donation = 1 #후원 여부\n",
    "                        except:\n",
    "                            spent = 0 #후원 채팅이 아닐 경우\n",
    "                            donation = 0\n",
    "\n",
    "                        #dataframe append\n",
    "                        scrapTW=scrapTW.append({'title':title,'game_category':game,'view':views,'duration':duration,'vod_url':url,'donation':donation,'spent':spent,'chat_time':time, 'time_stamp':timestamp,'comment_user':name,'comments':comment},ignore_index = True)\n",
    "\n",
    "                except Exception as e:\n",
    "                    #print(\"1번 오류\")\n",
    "                    print(e)\n",
    "\n",
    "                #if endCount == 1:\n",
    "                    #break\n",
    "\n",
    "                #j2['_next']가 없는 경우 예외처리로 pass\n",
    "                try:\n",
    "                    if j['_next']:\n",
    "                        cursor = j['_next']\n",
    "                except: \n",
    "                    break\n",
    "\n",
    "                count = count + 1 #offset을 사용할 경우\n",
    "\n",
    "                #trial\n",
    "                #if count > 25:\n",
    "                    #break\n",
    "\n",
    "            except Exception as e:\n",
    "                #print(\"2번 오류\")\n",
    "                print(e)\n",
    "\n",
    "    return scrapTW"
   ]
  },
  {
   "cell_type": "code",
   "execution_count": null,
   "metadata": {},
   "outputs": [],
   "source": [
    "video_chat = Video_chat(video_url, Clientid)\n",
    "scrapTW=scrapTW.append(video_chat, ignore_index=True)"
   ]
  },
  {
   "cell_type": "markdown",
   "metadata": {},
   "source": [
    "# memo\n",
    "\n",
    "방송 시간 흐름에 따라 발생하는 후원의 통계를 살펴본다고 칠때, 시청자 증가 추이도 보는게 좋을 듯  \n",
    "영상 흐름당 시청자 증가 여부를 확인하는 방법 찾아볼것"
   ]
  },
  {
   "cell_type": "code",
   "execution_count": null,
   "metadata": {
    "scrolled": true
   },
   "outputs": [],
   "source": [
    "scrapTW"
   ]
  },
  {
   "cell_type": "code",
   "execution_count": null,
   "metadata": {},
   "outputs": [],
   "source": [
    "scrapTW.loc[scrapTW[\"spent\"] > 0,:]"
   ]
  }
 ],
 "metadata": {
  "kernelspec": {
   "display_name": "Python 3",
   "language": "python",
   "name": "python3"
  },
  "language_info": {
   "codemirror_mode": {
    "name": "ipython",
    "version": 3
   },
   "file_extension": ".py",
   "mimetype": "text/x-python",
   "name": "python",
   "nbconvert_exporter": "python",
   "pygments_lexer": "ipython3",
   "version": "3.7.3"
  }
 },
 "nbformat": 4,
 "nbformat_minor": 2
}
